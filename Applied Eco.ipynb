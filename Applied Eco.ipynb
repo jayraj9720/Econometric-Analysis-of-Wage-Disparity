{
 "cells": [
  {
   "cell_type": "code",
   "execution_count": 6,
   "metadata": {
    "vscode": {
     "languageId": "r"
    }
   },
   "outputs": [
    {
     "name": "stderr",
     "output_type": "stream",
     "text": [
      "Updating HTML index of packages in '.Library'\n",
      "\n",
      "Making 'packages.html' ...\n",
      " done\n",
      "\n"
     ]
    }
   ],
   "source": [
    "install.packages(\"readxl\")\n",
    "library(readxl)"
   ]
  },
  {
   "cell_type": "code",
   "execution_count": 7,
   "metadata": {
    "vscode": {
     "languageId": "r"
    }
   },
   "outputs": [
    {
     "name": "stderr",
     "output_type": "stream",
     "text": [
      "Updating HTML index of packages in '.Library'\n",
      "\n",
      "Making 'packages.html' ...\n",
      " done\n",
      "\n"
     ]
    }
   ],
   "source": [
    "install.packages(\"sandwich\")\n",
    "library(sandwich)"
   ]
  },
  {
   "cell_type": "code",
   "execution_count": 8,
   "metadata": {
    "vscode": {
     "languageId": "r"
    }
   },
   "outputs": [
    {
     "name": "stderr",
     "output_type": "stream",
     "text": [
      "Updating HTML index of packages in '.Library'\n",
      "\n",
      "Making 'packages.html' ...\n",
      " done\n",
      "\n"
     ]
    }
   ],
   "source": [
    "install.packages(\"MASS\")\n",
    "library(MASS)"
   ]
  },
  {
   "cell_type": "code",
   "execution_count": 9,
   "metadata": {
    "vscode": {
     "languageId": "r"
    }
   },
   "outputs": [
    {
     "name": "stderr",
     "output_type": "stream",
     "text": [
      "Updating HTML index of packages in '.Library'\n",
      "\n",
      "Making 'packages.html' ...\n",
      " done\n",
      "\n"
     ]
    }
   ],
   "source": [
    "install.packages(\"margins\")\n",
    "library(margins)"
   ]
  },
  {
   "cell_type": "code",
   "execution_count": 10,
   "metadata": {
    "vscode": {
     "languageId": "r"
    }
   },
   "outputs": [
    {
     "name": "stderr",
     "output_type": "stream",
     "text": [
      "Updating HTML index of packages in '.Library'\n",
      "\n",
      "Making 'packages.html' ...\n",
      " done\n",
      "\n",
      "\n",
      "Please cite as: \n",
      "\n",
      "\n",
      " Hlavac, Marek (2022). stargazer: Well-Formatted Regression and Summary Statistics Tables.\n",
      "\n",
      " R package version 5.2.3. https://CRAN.R-project.org/package=stargazer \n",
      "\n",
      "\n"
     ]
    }
   ],
   "source": [
    "install.packages(\"stargazer\")\n",
    "library(stargazer)"
   ]
  },
  {
   "cell_type": "code",
   "execution_count": 11,
   "metadata": {
    "vscode": {
     "languageId": "r"
    }
   },
   "outputs": [
    {
     "name": "stderr",
     "output_type": "stream",
     "text": [
      "Updating HTML index of packages in '.Library'\n",
      "\n",
      "Making 'packages.html' ...\n",
      " done\n",
      "\n"
     ]
    }
   ],
   "source": [
    "install.packages(\"plm\")\n",
    "library(plm)"
   ]
  },
  {
   "cell_type": "code",
   "execution_count": 12,
   "metadata": {
    "vscode": {
     "languageId": "r"
    }
   },
   "outputs": [
    {
     "name": "stderr",
     "output_type": "stream",
     "text": [
      "Updating HTML index of packages in '.Library'\n",
      "\n",
      "Making 'packages.html' ...\n",
      " done\n",
      "\n"
     ]
    }
   ],
   "source": [
    "install.packages(\"ggplot2\")\n",
    "library(ggplot2)"
   ]
  },
  {
   "cell_type": "code",
   "execution_count": 13,
   "metadata": {
    "vscode": {
     "languageId": "r"
    }
   },
   "outputs": [
    {
     "name": "stderr",
     "output_type": "stream",
     "text": [
      "Updating HTML index of packages in '.Library'\n",
      "\n",
      "Making 'packages.html' ...\n",
      " done\n",
      "\n"
     ]
    }
   ],
   "source": [
    "install.packages(\"haven\")\n",
    "library(haven)"
   ]
  },
  {
   "cell_type": "code",
   "execution_count": 14,
   "metadata": {
    "vscode": {
     "languageId": "r"
    }
   },
   "outputs": [
    {
     "name": "stderr",
     "output_type": "stream",
     "text": [
      "Updating HTML index of packages in '.Library'\n",
      "\n",
      "Making 'packages.html' ...\n",
      " done\n",
      "\n",
      "\n",
      "Attaching package: ‘psych’\n",
      "\n",
      "\n",
      "The following objects are masked from ‘package:ggplot2’:\n",
      "\n",
      "    %+%, alpha\n",
      "\n",
      "\n"
     ]
    }
   ],
   "source": [
    "install.packages(\"psych\")\n",
    "library(psych)"
   ]
  },
  {
   "cell_type": "code",
   "execution_count": 15,
   "metadata": {
    "vscode": {
     "languageId": "r"
    }
   },
   "outputs": [
    {
     "name": "stderr",
     "output_type": "stream",
     "text": [
      "Updating HTML index of packages in '.Library'\n",
      "\n",
      "Making 'packages.html' ...\n",
      " done\n",
      "\n",
      "Loading required package: zoo\n",
      "\n",
      "Warning message:\n",
      "“package ‘zoo’ was built under R version 4.2.3”\n",
      "\n",
      "Attaching package: ‘zoo’\n",
      "\n",
      "\n",
      "The following objects are masked from ‘package:base’:\n",
      "\n",
      "    as.Date, as.Date.numeric\n",
      "\n",
      "\n"
     ]
    }
   ],
   "source": [
    "install.packages(\"lmtest\")\n",
    "library(lmtest)"
   ]
  },
  {
   "cell_type": "markdown",
   "metadata": {},
   "source": [
    "The average yields per hectare for cereal crops in the UK are normally distributed with mean 3,500 tonnes per hectare and standard deviation 2,500 tonnes.\n",
    "\n",
    "Any crop whose yield is greater than 5,000 tonnes is defined as being productive.\n",
    "\n",
    "a) Define the mean and standard deviation of the distribution as variables in R [2 marks]"
   ]
  },
  {
   "cell_type": "code",
   "execution_count": 118,
   "metadata": {
    "vscode": {
     "languageId": "r"
    }
   },
   "outputs": [],
   "source": [
    "# 730047083\n",
    "# Mean yield per hectare in tonnes\n",
    "yieldmean <- 3500\n",
    "# Standard deviation of yield per hectare in tonnes\n",
    "yieldsd <- 2500"
   ]
  },
  {
   "cell_type": "markdown",
   "metadata": {},
   "source": [
    "b) Write down the probability that a randomly selected/sampled crop is productive and use R to calculate this probability using the standard normal transformation. [4 marks]"
   ]
  },
  {
   "cell_type": "code",
   "execution_count": 139,
   "metadata": {
    "vscode": {
     "languageId": "r"
    }
   },
   "outputs": [
    {
     "name": "stdout",
     "output_type": "stream",
     "text": [
      "Probability that a randomly selected crop is productive: 0.2742531"
     ]
    }
   ],
   "source": [
    "# 730047083\n",
    "# Calculating the probability that a randomly selected crop is non-productive.\n",
    "prob1 <- pnorm(5000, mean = yieldmean, sd = yieldsd)\n",
    "\n",
    "#The probability of a crop being productive, when combined with the probability of a crop not being productive, equals 1.\n",
    "cat(\"Probability that a randomly selected crop is productive:\", 1-prob1)\n",
    "probproductive <- 1-prob1"
   ]
  },
  {
   "cell_type": "markdown",
   "metadata": {},
   "source": [
    "c) Write down the probability that a randomly selected crop yields more than 6,500 tonnes per hectare annually and use R to calculate this probability. [4 marks]"
   ]
  },
  {
   "cell_type": "code",
   "execution_count": 140,
   "metadata": {
    "vscode": {
     "languageId": "r"
    }
   },
   "outputs": [
    {
     "name": "stdout",
     "output_type": "stream",
     "text": [
      "Probability that selected crop has yeild greater than 6500: 0.1150697"
     ]
    }
   ],
   "source": [
    "# 730047083\n",
    "#The equation provided calculates the probability that the crop yield is below 6500.\n",
    "prob2 <- pnorm(6500, mean = yieldmean, sd = yieldsd)\n",
    "\n",
    "#The probability of a crop having a yield greater than or equal to 6500 is determined by combining the probabilities of the yield being less than or equal to 6500 and the yield being greater than 6500. \n",
    "#Resulting in a total probability of 1.\n",
    "cat(\"Probability that selected crop has yeild greater than 6500:\", 1-prob2)\n",
    "probhighyield <- 1-prob2"
   ]
  },
  {
   "cell_type": "markdown",
   "metadata": {},
   "source": [
    "d) A crop is chosen at random. Given that the crop is productive, write down an equation for calculating the probability that the yield for this crop is greater than 6,500 tonnes.\n",
    "You should use $P(A | B), P(B | A)$ and $P(A \\cap B)$ in your equation where:\n",
    "\n",
    "A = crop is productive (exceeds 5,000 tonnes per year)\n",
    "\n",
    "B = crop yield exceeds 6,500 tonnes per year\n",
    "\n",
    "[5 marks]"
   ]
  },
  {
   "cell_type": "markdown",
   "metadata": {},
   "source": [
    "The Bayes theorem makes it easier to calculate the probability of one event occurring based on the probability of another. This is the same as conditional probability. The independent probability of an event, the conditional probability of an event given the probability of another event, and the joint probability are the three components of Bayes' theorem.\n",
    "By: \n",
    "\n",
    "$$   P(A | B) = \\frac{P(A \\cap B)}{P(B)}.......(i), $$ \n",
    "\n",
    "$$ or $$\n",
    "\n",
    "$$   P(B | A) = \\frac{P(A \\cap B)}{P(A)}.......(ii), $$\n",
    "\n",
    "So, from (i) and (i) we can say that,\n",
    "\n",
    "$$   P(A \\cap B) = P(B | A) \\cdot P(A).......(iii), $$\n",
    "\n",
    "However, a randomly selected crop is considered productive if its yield exceeds 6500 tonnes per hectare. As a result, the conditional probability P(A|B) can be stated to be 1. As a result, the equation for a randomly chosen crop to exceed 6500 tonnes per hectare annually, given its productivity, is as follows:  \n",
    "\n",
    "$$   P(B | A) = \\frac{P(B)}{P(A)} $$"
   ]
  },
  {
   "cell_type": "markdown",
   "metadata": {},
   "source": [
    "e) Use R to calculate the probability that the yield for this randomly chosen crop is greater than 6,500 tonnes.  Round your result to two decimal places. [2 marks]"
   ]
  },
  {
   "cell_type": "code",
   "execution_count": 143,
   "metadata": {
    "vscode": {
     "languageId": "r"
    }
   },
   "outputs": [
    {
     "name": "stdout",
     "output_type": "stream",
     "text": [
      "The randomly chosen crop having a yield exceeding 6,500, given that the crop is considered productive is: 0.42"
     ]
    }
   ],
   "source": [
    "# 730047083\n",
    "# The variable 'prob3' is computed as the ratio of the probability of high yield to the probability of being productive.\n",
    "prob3 <- probhighyield / probproductive\n",
    "\n",
    "# 'Cat' is used to display the result and 'round' to round it up.\n",
    "cat(\"The randomly chosen crop having a yield exceeding 6,500, given that the crop is considered productive is:\", round(prob3, 2))\n"
   ]
  },
  {
   "cell_type": "markdown",
   "metadata": {},
   "source": [
    "f) A researcher has collected data on a sample of 105 new genetically modified (GM) cereal crops.  The sample mean of the yields is 3,900 tonnes per hectare and the sample standard deviation is 2,100 tonnes per hectare. \n",
    "\n",
    "Test the null hypothesis that the genetically modified (GM) cereal crops have a population mean yield equal to that of the UK cereal crops in part a) against the alternative hypothesis that the GM crops have a higher population mean yield. Use a 5% significance level. [5 marks]"
   ]
  },
  {
   "cell_type": "markdown",
   "metadata": {},
   "source": [
    "##### Given:\n",
    "\n",
    "$ \\bar{y} = 3900 $\n",
    "\n",
    "$ sd = 2100 $\n",
    "\n",
    "$ sample size = 105 $\n",
    "\n",
    "##### Formulating null hypothesis\n",
    "\n",
    "$ H_0 = \\mu{Y} = 3500 $\n",
    "\n",
    "$ H_1 \\neq \\mu{Y} = 3500 $\n",
    "\n",
    "$ \\alpha = 0.05 $\n",
    "\n",
    "$ t-value = {\\bar{Y} - \\mu_Y^0 \\over std/\\sqrt{n}} $\n",
    "\n",
    "$ t_{critical} = \\pm qnorm(\\alpha) $\n",
    "\n",
    "##### Rule of Rejection:\n",
    "\n",
    "$ |t-value| > |t_{critical}| $"
   ]
  },
  {
   "cell_type": "code",
   "execution_count": 149,
   "metadata": {
    "vscode": {
     "languageId": "r"
    }
   },
   "outputs": [
    {
     "name": "stdout",
     "output_type": "stream",
     "text": [
      "t-statistic: 1.9518 \n",
      "Lower critical value: -1.644854 \n",
      "Upper critical value: 1.644854 \n",
      "[1] \"We reject the null hypothesis\"\n"
     ]
    }
   ],
   "source": [
    "# 730047083\n",
    "# The variable alpha_level is set to 0.05, which represents the commonly used significance level in hypothesis testing.\n",
    "alpha_level <- 0.05\n",
    "\n",
    "# Parameters are used to perform a t-test. These parameters, in turn, represent the sample mean, population mean, sample standard deviation, and sample size.\n",
    "sample_mean <- 3900\n",
    "population_mean <- 3500\n",
    "sample_sd <- 2100\n",
    "sample_size <- 105\n",
    "\n",
    "#  The t-statistic is calculated using the formula. This statistic assesses the difference in standard errors between the sample mean and the population mean.\n",
    "tstat <- (sample_mean - population_mean) / (sample_sd / sqrt(sample_size))\n",
    "cat(\"t-statistic:\", tstat, \"\\n\")\n",
    "\n",
    "# The lower critical value for a two-tailed test at the given significance level was determined using the quantile function qnorm().\n",
    "lowercrit <- qnorm(alpha_level)\n",
    "cat(\"Lower critical value:\", lowercrit, \"\\n\")\n",
    "\n",
    "# The upper critical value is calculated in the same way as the lower critical value, but for the distribution's upper tail.\n",
    "uppercritic <- qnorm(1 - alpha_level)\n",
    "cat(\"Upper critical value:\", uppercritic, \"\\n\")\n",
    "\n",
    "if(abs(t) > abs(tcritic)){\n",
    "    print(\"We reject the null hypothesis\")\n",
    "}else{\n",
    "    print(\"We do not reject the null hypothesis\")\n",
    "}\n"
   ]
  },
  {
   "cell_type": "markdown",
   "metadata": {},
   "source": [
    "g) Calculate the p-value for this test statistic and provide an interpretation of what this means. [3 marks]"
   ]
  },
  {
   "cell_type": "code",
   "execution_count": 96,
   "metadata": {
    "vscode": {
     "languageId": "r"
    }
   },
   "outputs": [
    {
     "name": "stdout",
     "output_type": "stream",
     "text": [
      "Computed p-value for the t-test with 5% significance level: 0.02682557"
     ]
    }
   ],
   "source": [
    "# 730047083\n",
    "# The variable alpha_level_ttest is set to 0.05, which represents the commonly used significance level in one-sided t-tests.\n",
    "alphalevelttest <- 0.05\n",
    "\n",
    "# The one-sided t-test p-value is computed using the cumulative distribution function pt() with the degrees of freedom specified (df = sample_size1 - 1). If the null hypothesis is true, the p-value represents the probability of obtaining a t-statistic as extreme as the one calculated.\n",
    "pvalttest <- 1 - pt(alphalevelttest, df = sample_size1 - 1)\n",
    "cat(\"Computed p-value for the t-test with 5% significance level:\", p_value_ttest)\n"
   ]
  },
  {
   "cell_type": "markdown",
   "metadata": {},
   "source": [
    "As P-value is lower than the significance level we reject the null hypothesis."
   ]
  },
  {
   "cell_type": "markdown",
   "metadata": {},
   "source": [
    "\n",
    "The Salary Gap data set (salarydata.csv) contains data on salaries for a sample of individuals between 2001 and 2020.  The variables in the data set include:\n",
    "- Salary: the annual salary of the individual before tax in British pounds (GBP)\n",
    "- Age: the age of the individual\n",
    "- Duration: The number of years an individual has spent in their current job\n",
    "- Gender: Self reported gender (Male, Female, Non-binary)\n",
    "- Children: The number of children (aged under 16) that the individual has parental rights for"
   ]
  },
  {
   "cell_type": "markdown",
   "metadata": {},
   "source": [
    "### Part 1: Explore the data"
   ]
  },
  {
   "cell_type": "markdown",
   "metadata": {},
   "source": [
    "a) Load the Salary Gap csv and assign it to an object labelled *salarydata* [2 marks]"
   ]
  },
  {
   "cell_type": "code",
   "execution_count": 72,
   "metadata": {
    "vscode": {
     "languageId": "r"
    }
   },
   "outputs": [
    {
     "data": {
      "text/html": [
       "<table class=\"dataframe\">\n",
       "<caption>A data.frame: 6 × 8</caption>\n",
       "<thead>\n",
       "\t<tr><th></th><th scope=col>X</th><th scope=col>salary</th><th scope=col>id</th><th scope=col>gender</th><th scope=col>children</th><th scope=col>duration</th><th scope=col>year</th><th scope=col>age</th></tr>\n",
       "\t<tr><th></th><th scope=col>&lt;int&gt;</th><th scope=col>&lt;dbl&gt;</th><th scope=col>&lt;int&gt;</th><th scope=col>&lt;chr&gt;</th><th scope=col>&lt;int&gt;</th><th scope=col>&lt;int&gt;</th><th scope=col>&lt;int&gt;</th><th scope=col>&lt;int&gt;</th></tr>\n",
       "</thead>\n",
       "<tbody>\n",
       "\t<tr><th scope=row>1</th><td>1</td><td> 64579.25</td><td>1</td><td>Male      </td><td>4</td><td> 1</td><td>2001</td><td>34</td></tr>\n",
       "\t<tr><th scope=row>2</th><td>2</td><td>105744.16</td><td>2</td><td>Female    </td><td>1</td><td> 1</td><td>2001</td><td>59</td></tr>\n",
       "\t<tr><th scope=row>3</th><td>3</td><td>503045.35</td><td>3</td><td>Non-binary</td><td>5</td><td>19</td><td>2001</td><td>40</td></tr>\n",
       "\t<tr><th scope=row>4</th><td>4</td><td> 55883.94</td><td>4</td><td>Male      </td><td>4</td><td> 1</td><td>2001</td><td>64</td></tr>\n",
       "\t<tr><th scope=row>5</th><td>5</td><td> 25459.80</td><td>5</td><td>Non-binary</td><td>3</td><td> 1</td><td>2001</td><td>67</td></tr>\n",
       "\t<tr><th scope=row>6</th><td>6</td><td> 66364.26</td><td>6</td><td>Male      </td><td>3</td><td> 1</td><td>2001</td><td>21</td></tr>\n",
       "</tbody>\n",
       "</table>\n"
      ],
      "text/latex": [
       "A data.frame: 6 × 8\n",
       "\\begin{tabular}{r|llllllll}\n",
       "  & X & salary & id & gender & children & duration & year & age\\\\\n",
       "  & <int> & <dbl> & <int> & <chr> & <int> & <int> & <int> & <int>\\\\\n",
       "\\hline\n",
       "\t1 & 1 &  64579.25 & 1 & Male       & 4 &  1 & 2001 & 34\\\\\n",
       "\t2 & 2 & 105744.16 & 2 & Female     & 1 &  1 & 2001 & 59\\\\\n",
       "\t3 & 3 & 503045.35 & 3 & Non-binary & 5 & 19 & 2001 & 40\\\\\n",
       "\t4 & 4 &  55883.94 & 4 & Male       & 4 &  1 & 2001 & 64\\\\\n",
       "\t5 & 5 &  25459.80 & 5 & Non-binary & 3 &  1 & 2001 & 67\\\\\n",
       "\t6 & 6 &  66364.26 & 6 & Male       & 3 &  1 & 2001 & 21\\\\\n",
       "\\end{tabular}\n"
      ],
      "text/markdown": [
       "\n",
       "A data.frame: 6 × 8\n",
       "\n",
       "| <!--/--> | X &lt;int&gt; | salary &lt;dbl&gt; | id &lt;int&gt; | gender &lt;chr&gt; | children &lt;int&gt; | duration &lt;int&gt; | year &lt;int&gt; | age &lt;int&gt; |\n",
       "|---|---|---|---|---|---|---|---|---|\n",
       "| 1 | 1 |  64579.25 | 1 | Male       | 4 |  1 | 2001 | 34 |\n",
       "| 2 | 2 | 105744.16 | 2 | Female     | 1 |  1 | 2001 | 59 |\n",
       "| 3 | 3 | 503045.35 | 3 | Non-binary | 5 | 19 | 2001 | 40 |\n",
       "| 4 | 4 |  55883.94 | 4 | Male       | 4 |  1 | 2001 | 64 |\n",
       "| 5 | 5 |  25459.80 | 5 | Non-binary | 3 |  1 | 2001 | 67 |\n",
       "| 6 | 6 |  66364.26 | 6 | Male       | 3 |  1 | 2001 | 21 |\n",
       "\n"
      ],
      "text/plain": [
       "  X salary    id gender     children duration year age\n",
       "1 1  64579.25 1  Male       4         1       2001 34 \n",
       "2 2 105744.16 2  Female     1         1       2001 59 \n",
       "3 3 503045.35 3  Non-binary 5        19       2001 40 \n",
       "4 4  55883.94 4  Male       4         1       2001 64 \n",
       "5 5  25459.80 5  Non-binary 3         1       2001 67 \n",
       "6 6  66364.26 6  Male       3         1       2001 21 "
      ]
     },
     "metadata": {},
     "output_type": "display_data"
    }
   ],
   "source": [
    "# 730047083\n",
    "# The function'read.csv' is used to import data from a CSV file named \"salarydata.csv\" into the R workspace.\n",
    "salarydata <- read.csv(\"salarydata.csv\")\n",
    "# The 'head()' function is used to examine the initial rows of the data set that are stored in the variable 'salarydata'.\n",
    "head(salarydata)"
   ]
  },
  {
   "cell_type": "markdown",
   "metadata": {},
   "source": [
    "b) Check whether the panel is balanced?  Explain the method you have used. [4 marks]"
   ]
  },
  {
   "cell_type": "code",
   "execution_count": 62,
   "metadata": {
    "vscode": {
     "languageId": "r"
    }
   },
   "outputs": [
    {
     "name": "stderr",
     "output_type": "stream",
     "text": [
      "Warning message in pdata.frame(x, index):\n",
      "“duplicate couples (id-time) in resulting pdata.frame\n",
      " to find out which, use, e.g., table(index(your_pdataframe), useNA = \"ifany\")”\n"
     ]
    },
    {
     "name": "stdout",
     "output_type": "stream",
     "text": [
      "[1] TRUE\n"
     ]
    }
   ],
   "source": [
    "# 730047083\n",
    "#The 'is.pbalanced' function is used to determine whether or not the panel data stored in 'salarydata' is balanced.\n",
    "balanced <- is.pbalanced(salarydata, index = c(\"gender\", \"year\"))\n",
    "print(balanced)"
   ]
  },
  {
   "cell_type": "markdown",
   "metadata": {},
   "source": [
    "Panel data is observed to be studied on the same variable over a specific time period. For example, we can compare the first and last years of data to see if there is a decrease in the number of observations."
   ]
  },
  {
   "cell_type": "markdown",
   "metadata": {},
   "source": [
    "c) Look at the data.  What type of data is the gender variable loaded as? [ 2 marks]\n",
    "\n",
    "Convert the gender variable to a factor variable and set the base level to Male. [2 marks]"
   ]
  },
  {
   "cell_type": "code",
   "execution_count": 73,
   "metadata": {
    "vscode": {
     "languageId": "r"
    }
   },
   "outputs": [
    {
     "data": {
      "text/html": [
       "<table class=\"dataframe\">\n",
       "<caption>A data.frame: 6 × 8</caption>\n",
       "<thead>\n",
       "\t<tr><th></th><th scope=col>X</th><th scope=col>salary</th><th scope=col>id</th><th scope=col>gender</th><th scope=col>children</th><th scope=col>duration</th><th scope=col>year</th><th scope=col>age</th></tr>\n",
       "\t<tr><th></th><th scope=col>&lt;int&gt;</th><th scope=col>&lt;dbl&gt;</th><th scope=col>&lt;int&gt;</th><th scope=col>&lt;chr&gt;</th><th scope=col>&lt;int&gt;</th><th scope=col>&lt;int&gt;</th><th scope=col>&lt;int&gt;</th><th scope=col>&lt;int&gt;</th></tr>\n",
       "</thead>\n",
       "<tbody>\n",
       "\t<tr><th scope=row>1</th><td>1</td><td> 64579.25</td><td>1</td><td>Male      </td><td>4</td><td> 1</td><td>2001</td><td>34</td></tr>\n",
       "\t<tr><th scope=row>2</th><td>2</td><td>105744.16</td><td>2</td><td>Female    </td><td>1</td><td> 1</td><td>2001</td><td>59</td></tr>\n",
       "\t<tr><th scope=row>3</th><td>3</td><td>503045.35</td><td>3</td><td>Non-binary</td><td>5</td><td>19</td><td>2001</td><td>40</td></tr>\n",
       "\t<tr><th scope=row>4</th><td>4</td><td> 55883.94</td><td>4</td><td>Male      </td><td>4</td><td> 1</td><td>2001</td><td>64</td></tr>\n",
       "\t<tr><th scope=row>5</th><td>5</td><td> 25459.80</td><td>5</td><td>Non-binary</td><td>3</td><td> 1</td><td>2001</td><td>67</td></tr>\n",
       "\t<tr><th scope=row>6</th><td>6</td><td> 66364.26</td><td>6</td><td>Male      </td><td>3</td><td> 1</td><td>2001</td><td>21</td></tr>\n",
       "</tbody>\n",
       "</table>\n"
      ],
      "text/latex": [
       "A data.frame: 6 × 8\n",
       "\\begin{tabular}{r|llllllll}\n",
       "  & X & salary & id & gender & children & duration & year & age\\\\\n",
       "  & <int> & <dbl> & <int> & <chr> & <int> & <int> & <int> & <int>\\\\\n",
       "\\hline\n",
       "\t1 & 1 &  64579.25 & 1 & Male       & 4 &  1 & 2001 & 34\\\\\n",
       "\t2 & 2 & 105744.16 & 2 & Female     & 1 &  1 & 2001 & 59\\\\\n",
       "\t3 & 3 & 503045.35 & 3 & Non-binary & 5 & 19 & 2001 & 40\\\\\n",
       "\t4 & 4 &  55883.94 & 4 & Male       & 4 &  1 & 2001 & 64\\\\\n",
       "\t5 & 5 &  25459.80 & 5 & Non-binary & 3 &  1 & 2001 & 67\\\\\n",
       "\t6 & 6 &  66364.26 & 6 & Male       & 3 &  1 & 2001 & 21\\\\\n",
       "\\end{tabular}\n"
      ],
      "text/markdown": [
       "\n",
       "A data.frame: 6 × 8\n",
       "\n",
       "| <!--/--> | X &lt;int&gt; | salary &lt;dbl&gt; | id &lt;int&gt; | gender &lt;chr&gt; | children &lt;int&gt; | duration &lt;int&gt; | year &lt;int&gt; | age &lt;int&gt; |\n",
       "|---|---|---|---|---|---|---|---|---|\n",
       "| 1 | 1 |  64579.25 | 1 | Male       | 4 |  1 | 2001 | 34 |\n",
       "| 2 | 2 | 105744.16 | 2 | Female     | 1 |  1 | 2001 | 59 |\n",
       "| 3 | 3 | 503045.35 | 3 | Non-binary | 5 | 19 | 2001 | 40 |\n",
       "| 4 | 4 |  55883.94 | 4 | Male       | 4 |  1 | 2001 | 64 |\n",
       "| 5 | 5 |  25459.80 | 5 | Non-binary | 3 |  1 | 2001 | 67 |\n",
       "| 6 | 6 |  66364.26 | 6 | Male       | 3 |  1 | 2001 | 21 |\n",
       "\n"
      ],
      "text/plain": [
       "  X salary    id gender     children duration year age\n",
       "1 1  64579.25 1  Male       4         1       2001 34 \n",
       "2 2 105744.16 2  Female     1         1       2001 59 \n",
       "3 3 503045.35 3  Non-binary 5        19       2001 40 \n",
       "4 4  55883.94 4  Male       4         1       2001 64 \n",
       "5 5  25459.80 5  Non-binary 3         1       2001 67 \n",
       "6 6  66364.26 6  Male       3         1       2001 21 "
      ]
     },
     "metadata": {},
     "output_type": "display_data"
    }
   ],
   "source": [
    "head(salarydata)"
   ]
  },
  {
   "cell_type": "markdown",
   "metadata": {},
   "source": [
    "As we can see above gender is represented as a character variable with three categorical levels: \"Male,\" \"Female,\" and \"Non-binary.\"\n",
    "Now we convert it into Factor Varibale."
   ]
  },
  {
   "cell_type": "code",
   "execution_count": 74,
   "metadata": {
    "vscode": {
     "languageId": "r"
    }
   },
   "outputs": [
    {
     "data": {
      "text/html": [
       "<table class=\"dataframe\">\n",
       "<caption>A data.frame: 6 × 8</caption>\n",
       "<thead>\n",
       "\t<tr><th></th><th scope=col>X</th><th scope=col>salary</th><th scope=col>id</th><th scope=col>gender</th><th scope=col>children</th><th scope=col>duration</th><th scope=col>year</th><th scope=col>age</th></tr>\n",
       "\t<tr><th></th><th scope=col>&lt;int&gt;</th><th scope=col>&lt;dbl&gt;</th><th scope=col>&lt;int&gt;</th><th scope=col>&lt;fct&gt;</th><th scope=col>&lt;int&gt;</th><th scope=col>&lt;int&gt;</th><th scope=col>&lt;int&gt;</th><th scope=col>&lt;int&gt;</th></tr>\n",
       "</thead>\n",
       "<tbody>\n",
       "\t<tr><th scope=row>1</th><td>1</td><td> 64579.25</td><td>1</td><td>Male      </td><td>4</td><td> 1</td><td>2001</td><td>34</td></tr>\n",
       "\t<tr><th scope=row>2</th><td>2</td><td>105744.16</td><td>2</td><td>Female    </td><td>1</td><td> 1</td><td>2001</td><td>59</td></tr>\n",
       "\t<tr><th scope=row>3</th><td>3</td><td>503045.35</td><td>3</td><td>Non-binary</td><td>5</td><td>19</td><td>2001</td><td>40</td></tr>\n",
       "\t<tr><th scope=row>4</th><td>4</td><td> 55883.94</td><td>4</td><td>Male      </td><td>4</td><td> 1</td><td>2001</td><td>64</td></tr>\n",
       "\t<tr><th scope=row>5</th><td>5</td><td> 25459.80</td><td>5</td><td>Non-binary</td><td>3</td><td> 1</td><td>2001</td><td>67</td></tr>\n",
       "\t<tr><th scope=row>6</th><td>6</td><td> 66364.26</td><td>6</td><td>Male      </td><td>3</td><td> 1</td><td>2001</td><td>21</td></tr>\n",
       "</tbody>\n",
       "</table>\n"
      ],
      "text/latex": [
       "A data.frame: 6 × 8\n",
       "\\begin{tabular}{r|llllllll}\n",
       "  & X & salary & id & gender & children & duration & year & age\\\\\n",
       "  & <int> & <dbl> & <int> & <fct> & <int> & <int> & <int> & <int>\\\\\n",
       "\\hline\n",
       "\t1 & 1 &  64579.25 & 1 & Male       & 4 &  1 & 2001 & 34\\\\\n",
       "\t2 & 2 & 105744.16 & 2 & Female     & 1 &  1 & 2001 & 59\\\\\n",
       "\t3 & 3 & 503045.35 & 3 & Non-binary & 5 & 19 & 2001 & 40\\\\\n",
       "\t4 & 4 &  55883.94 & 4 & Male       & 4 &  1 & 2001 & 64\\\\\n",
       "\t5 & 5 &  25459.80 & 5 & Non-binary & 3 &  1 & 2001 & 67\\\\\n",
       "\t6 & 6 &  66364.26 & 6 & Male       & 3 &  1 & 2001 & 21\\\\\n",
       "\\end{tabular}\n"
      ],
      "text/markdown": [
       "\n",
       "A data.frame: 6 × 8\n",
       "\n",
       "| <!--/--> | X &lt;int&gt; | salary &lt;dbl&gt; | id &lt;int&gt; | gender &lt;fct&gt; | children &lt;int&gt; | duration &lt;int&gt; | year &lt;int&gt; | age &lt;int&gt; |\n",
       "|---|---|---|---|---|---|---|---|---|\n",
       "| 1 | 1 |  64579.25 | 1 | Male       | 4 |  1 | 2001 | 34 |\n",
       "| 2 | 2 | 105744.16 | 2 | Female     | 1 |  1 | 2001 | 59 |\n",
       "| 3 | 3 | 503045.35 | 3 | Non-binary | 5 | 19 | 2001 | 40 |\n",
       "| 4 | 4 |  55883.94 | 4 | Male       | 4 |  1 | 2001 | 64 |\n",
       "| 5 | 5 |  25459.80 | 5 | Non-binary | 3 |  1 | 2001 | 67 |\n",
       "| 6 | 6 |  66364.26 | 6 | Male       | 3 |  1 | 2001 | 21 |\n",
       "\n"
      ],
      "text/plain": [
       "  X salary    id gender     children duration year age\n",
       "1 1  64579.25 1  Male       4         1       2001 34 \n",
       "2 2 105744.16 2  Female     1         1       2001 59 \n",
       "3 3 503045.35 3  Non-binary 5        19       2001 40 \n",
       "4 4  55883.94 4  Male       4         1       2001 64 \n",
       "5 5  25459.80 5  Non-binary 3         1       2001 67 \n",
       "6 6  66364.26 6  Male       3         1       2001 21 "
      ]
     },
     "metadata": {},
     "output_type": "display_data"
    }
   ],
   "source": [
    "# 730047083\n",
    "#The 'factor()' function is used to categorize the variable in the dataset.\n",
    "#This step converts the 'gender' variable into a factor by assigning specific levels (\"Male\", \"Female\", \"Non-binary\").\n",
    "salarydata$gender <- factor(salarydata$gender, levels = c(\"Male\", \"Female\", \"Non-binary\"))\n",
    "head(salarydata)"
   ]
  },
  {
   "cell_type": "markdown",
   "metadata": {},
   "source": [
    "d) Using histograms, plot the distribution of salaries for males, females and non-binary individuals in the sample in 2020.  Describe the distributions. [10 marks]\n",
    "\n",
    "*Note: functions like ggplot2 don't like panel data frame structures*"
   ]
  },
  {
   "cell_type": "code",
   "execution_count": 102,
   "metadata": {
    "vscode": {
     "languageId": "r"
    }
   },
   "outputs": [
    {
     "data": {
      "image/png": "[encoded data removed]",
      "text/plain": [
       "Plot with title “Distribution of Salaries - Males~Female~Non-binary”"
      ]
     },
     "metadata": {
      "image/png": {
       "height": 420,
       "width": 420
      }
     },
     "output_type": "display_data"
    }
   ],
   "source": [
    "# 730047083\n",
    "# The'subset()' function is used to extract a subset from a dataset, with a focus on the year 2020.\n",
    "# This allows for a more focused analysis of salary data for the time period specified.\n",
    "data2020 <- subset(salarydata, year == 2020)\n",
    "\n",
    "# Within the 'data_2020' subset, individual histograms are created for each gender category, defining breaks and avoiding immediate plotting.\n",
    "# For future use, these histograms are saved.\n",
    "h1 <- hist(data2020$salary[data2020$gender == \"Male\"], breaks = 30, plot = FALSE)\n",
    "h2 <- hist(data2020$salary[data2020$gender == \"Female\"], breaks = 30, plot = FALSE)\n",
    "h3 <- hist(data2020$salary[data2020$gender == \"Non-binary\"], breaks = 30, plot = FALSE)\n",
    "\n",
    "# Transparent colours (orange, green, and blue) are specified with alpha transparency using the 'rgb()' function.\n",
    "c1 <- rgb(255, 165, 0, max = 255, alpha = 95, names = \"orange\")  # Orange\n",
    "c2 <- rgb(0, 128, 0, max = 255, alpha = 95, names = \"green\")     # Green\n",
    "c3 <- rgb(0, 0, 255, max = 255, alpha = 95, names = \"blue\")       # Blue\n",
    "\n",
    "# Employing distinct transparent colours, the 'plot()' function is used to display individual histograms for each gender category.\n",
    "# These plots have been layered to show the distribution of salaries across gender groups.\n",
    "plot(h1, col = c1, main = \"Distribution of Salaries - Males~Female~Non-binary\", xlab = \"Salary\", freq = FALSE)\n",
    "plot(h2, col = c2, add = TRUE, freq = FALSE)\n",
    "plot(h3, col = c3, add = TRUE, freq = FALSE)\n",
    "\n",
    "# # A legend is introduced to the top-right corner, providing a key to interpret the transparent colors and associate them with gender categories.\n",
    "# This enhances the clarity and interpretability of the histogram plots.\n",
    "legend(\"topright\", legend = levels(data2020$gender), fill = c(c1, c2, c3))"
   ]
  },
  {
   "cell_type": "markdown",
   "metadata": {},
   "source": [
    "The distribution displayed in the bar graph indicates a positive skew, suggesting that a larger proportion of individuals earn lower wages compared to higher wages. Additionally, there is a clear disparity in earnings between genders, with males earning more than females and non-binary individuals. This observed pattern is consistent with the differences in median and mean salaries across gender groups, underscoring the significant wage gap existing among different genders."
   ]
  },
  {
   "cell_type": "markdown",
   "metadata": {},
   "source": [
    "### Part 2: Cross section analysis"
   ]
  },
  {
   "cell_type": "markdown",
   "metadata": {},
   "source": [
    "\n",
    "a) Set the seed to your candidate number. [1 mark]\n",
    "\n",
    "Use R to randomly select a year from between 2001 and 2020.  Report which year was selected.\n",
    "\n",
    "Create a subset of the data called *mysubset* for the selected year. [3 marks]\n",
    "\n",
    "*Note: You should verify that the sample has been correctly constructed by inspecting *mysubset* after you create it.*\n",
    "\n"
   ]
  },
  {
   "cell_type": "code",
   "execution_count": 81,
   "metadata": {
    "vscode": {
     "languageId": "r"
    }
   },
   "outputs": [
    {
     "name": "stdout",
     "output_type": "stream",
     "text": [
      "The selected year at random is:  2014"
     ]
    },
    {
     "data": {
      "text/html": [
       "<table class=\"dataframe\">\n",
       "<caption>A data.frame: 6 × 8</caption>\n",
       "<thead>\n",
       "\t<tr><th></th><th scope=col>X</th><th scope=col>salary</th><th scope=col>id</th><th scope=col>gender</th><th scope=col>children</th><th scope=col>duration</th><th scope=col>year</th><th scope=col>age</th></tr>\n",
       "\t<tr><th></th><th scope=col>&lt;int&gt;</th><th scope=col>&lt;dbl&gt;</th><th scope=col>&lt;int&gt;</th><th scope=col>&lt;fct&gt;</th><th scope=col>&lt;int&gt;</th><th scope=col>&lt;int&gt;</th><th scope=col>&lt;int&gt;</th><th scope=col>&lt;int&gt;</th></tr>\n",
       "</thead>\n",
       "<tbody>\n",
       "\t<tr><th scope=row>1</th><td>1</td><td> 64579.25</td><td>1</td><td>Male      </td><td>4</td><td> 1</td><td>2001</td><td>34</td></tr>\n",
       "\t<tr><th scope=row>2</th><td>2</td><td>105744.16</td><td>2</td><td>Female    </td><td>1</td><td> 1</td><td>2001</td><td>59</td></tr>\n",
       "\t<tr><th scope=row>3</th><td>3</td><td>503045.35</td><td>3</td><td>Non-binary</td><td>5</td><td>19</td><td>2001</td><td>40</td></tr>\n",
       "\t<tr><th scope=row>4</th><td>4</td><td> 55883.94</td><td>4</td><td>Male      </td><td>4</td><td> 1</td><td>2001</td><td>64</td></tr>\n",
       "\t<tr><th scope=row>5</th><td>5</td><td> 25459.80</td><td>5</td><td>Non-binary</td><td>3</td><td> 1</td><td>2001</td><td>67</td></tr>\n",
       "\t<tr><th scope=row>6</th><td>6</td><td> 66364.26</td><td>6</td><td>Male      </td><td>3</td><td> 1</td><td>2001</td><td>21</td></tr>\n",
       "</tbody>\n",
       "</table>\n"
      ],
      "text/latex": [
       "A data.frame: 6 × 8\n",
       "\\begin{tabular}{r|llllllll}\n",
       "  & X & salary & id & gender & children & duration & year & age\\\\\n",
       "  & <int> & <dbl> & <int> & <fct> & <int> & <int> & <int> & <int>\\\\\n",
       "\\hline\n",
       "\t1 & 1 &  64579.25 & 1 & Male       & 4 &  1 & 2001 & 34\\\\\n",
       "\t2 & 2 & 105744.16 & 2 & Female     & 1 &  1 & 2001 & 59\\\\\n",
       "\t3 & 3 & 503045.35 & 3 & Non-binary & 5 & 19 & 2001 & 40\\\\\n",
       "\t4 & 4 &  55883.94 & 4 & Male       & 4 &  1 & 2001 & 64\\\\\n",
       "\t5 & 5 &  25459.80 & 5 & Non-binary & 3 &  1 & 2001 & 67\\\\\n",
       "\t6 & 6 &  66364.26 & 6 & Male       & 3 &  1 & 2001 & 21\\\\\n",
       "\\end{tabular}\n"
      ],
      "text/markdown": [
       "\n",
       "A data.frame: 6 × 8\n",
       "\n",
       "| <!--/--> | X &lt;int&gt; | salary &lt;dbl&gt; | id &lt;int&gt; | gender &lt;fct&gt; | children &lt;int&gt; | duration &lt;int&gt; | year &lt;int&gt; | age &lt;int&gt; |\n",
       "|---|---|---|---|---|---|---|---|---|\n",
       "| 1 | 1 |  64579.25 | 1 | Male       | 4 |  1 | 2001 | 34 |\n",
       "| 2 | 2 | 105744.16 | 2 | Female     | 1 |  1 | 2001 | 59 |\n",
       "| 3 | 3 | 503045.35 | 3 | Non-binary | 5 | 19 | 2001 | 40 |\n",
       "| 4 | 4 |  55883.94 | 4 | Male       | 4 |  1 | 2001 | 64 |\n",
       "| 5 | 5 |  25459.80 | 5 | Non-binary | 3 |  1 | 2001 | 67 |\n",
       "| 6 | 6 |  66364.26 | 6 | Male       | 3 |  1 | 2001 | 21 |\n",
       "\n"
      ],
      "text/plain": [
       "  X salary    id gender     children duration year age\n",
       "1 1  64579.25 1  Male       4         1       2001 34 \n",
       "2 2 105744.16 2  Female     1         1       2001 59 \n",
       "3 3 503045.35 3  Non-binary 5        19       2001 40 \n",
       "4 4  55883.94 4  Male       4         1       2001 64 \n",
       "5 5  25459.80 5  Non-binary 3         1       2001 67 \n",
       "6 6  66364.26 6  Male       3         1       2001 21 "
      ]
     },
     "metadata": {},
     "output_type": "display_data"
    },
    {
     "data": {
      "text/html": [
       "<table class=\"dataframe\">\n",
       "<caption>A data.frame: 6 × 8</caption>\n",
       "<thead>\n",
       "\t<tr><th></th><th scope=col>X</th><th scope=col>salary</th><th scope=col>id</th><th scope=col>gender</th><th scope=col>children</th><th scope=col>duration</th><th scope=col>year</th><th scope=col>age</th></tr>\n",
       "\t<tr><th></th><th scope=col>&lt;int&gt;</th><th scope=col>&lt;dbl&gt;</th><th scope=col>&lt;int&gt;</th><th scope=col>&lt;fct&gt;</th><th scope=col>&lt;int&gt;</th><th scope=col>&lt;int&gt;</th><th scope=col>&lt;int&gt;</th><th scope=col>&lt;int&gt;</th></tr>\n",
       "</thead>\n",
       "<tbody>\n",
       "\t<tr><th scope=row>1995</th><td>1995</td><td> 40186.08</td><td> 95</td><td>Female    </td><td>4</td><td>2</td><td>2020</td><td>54</td></tr>\n",
       "\t<tr><th scope=row>1996</th><td>1996</td><td> 27054.55</td><td> 96</td><td>Female    </td><td>4</td><td>1</td><td>2020</td><td>48</td></tr>\n",
       "\t<tr><th scope=row>1997</th><td>1997</td><td> 26916.76</td><td> 97</td><td>Female    </td><td>4</td><td>1</td><td>2020</td><td>78</td></tr>\n",
       "\t<tr><th scope=row>1998</th><td>1998</td><td> 62810.77</td><td> 98</td><td>Non-binary</td><td>3</td><td>4</td><td>2020</td><td>43</td></tr>\n",
       "\t<tr><th scope=row>1999</th><td>1999</td><td>369920.91</td><td> 99</td><td>Male      </td><td>4</td><td>6</td><td>2020</td><td>62</td></tr>\n",
       "\t<tr><th scope=row>2000</th><td>2000</td><td> 96579.14</td><td>100</td><td>Male      </td><td>5</td><td>1</td><td>2020</td><td>64</td></tr>\n",
       "</tbody>\n",
       "</table>\n"
      ],
      "text/latex": [
       "A data.frame: 6 × 8\n",
       "\\begin{tabular}{r|llllllll}\n",
       "  & X & salary & id & gender & children & duration & year & age\\\\\n",
       "  & <int> & <dbl> & <int> & <fct> & <int> & <int> & <int> & <int>\\\\\n",
       "\\hline\n",
       "\t1995 & 1995 &  40186.08 &  95 & Female     & 4 & 2 & 2020 & 54\\\\\n",
       "\t1996 & 1996 &  27054.55 &  96 & Female     & 4 & 1 & 2020 & 48\\\\\n",
       "\t1997 & 1997 &  26916.76 &  97 & Female     & 4 & 1 & 2020 & 78\\\\\n",
       "\t1998 & 1998 &  62810.77 &  98 & Non-binary & 3 & 4 & 2020 & 43\\\\\n",
       "\t1999 & 1999 & 369920.91 &  99 & Male       & 4 & 6 & 2020 & 62\\\\\n",
       "\t2000 & 2000 &  96579.14 & 100 & Male       & 5 & 1 & 2020 & 64\\\\\n",
       "\\end{tabular}\n"
      ],
      "text/markdown": [
       "\n",
       "A data.frame: 6 × 8\n",
       "\n",
       "| <!--/--> | X &lt;int&gt; | salary &lt;dbl&gt; | id &lt;int&gt; | gender &lt;fct&gt; | children &lt;int&gt; | duration &lt;int&gt; | year &lt;int&gt; | age &lt;int&gt; |\n",
       "|---|---|---|---|---|---|---|---|---|\n",
       "| 1995 | 1995 |  40186.08 |  95 | Female     | 4 | 2 | 2020 | 54 |\n",
       "| 1996 | 1996 |  27054.55 |  96 | Female     | 4 | 1 | 2020 | 48 |\n",
       "| 1997 | 1997 |  26916.76 |  97 | Female     | 4 | 1 | 2020 | 78 |\n",
       "| 1998 | 1998 |  62810.77 |  98 | Non-binary | 3 | 4 | 2020 | 43 |\n",
       "| 1999 | 1999 | 369920.91 |  99 | Male       | 4 | 6 | 2020 | 62 |\n",
       "| 2000 | 2000 |  96579.14 | 100 | Male       | 5 | 1 | 2020 | 64 |\n",
       "\n"
      ],
      "text/plain": [
       "     X    salary    id  gender     children duration year age\n",
       "1995 1995  40186.08  95 Female     4        2        2020 54 \n",
       "1996 1996  27054.55  96 Female     4        1        2020 48 \n",
       "1997 1997  26916.76  97 Female     4        1        2020 78 \n",
       "1998 1998  62810.77  98 Non-binary 3        4        2020 43 \n",
       "1999 1999 369920.91  99 Male       4        6        2020 62 \n",
       "2000 2000  96579.14 100 Male       5        1        2020 64 "
      ]
     },
     "metadata": {},
     "output_type": "display_data"
    }
   ],
   "source": [
    "# 730047083\n",
    "set.seed(730047083)\n",
    "\n",
    "# The'sample()' function is used to choose one year at random from 2001 to 2020 and the year chosen is saved in the variable.\n",
    "year <- sample(2001:2020, 1)\n",
    "\n",
    "# Print selected year.\n",
    "cat(\"The selected year at random is: \", year)\n",
    "\n",
    "# A subset is created, with entries from 'salarydata'  equivalent to the randomly chosen year.\n",
    "mysubset <- subset(salarydata, salarydata$year == year)\n",
    "\n",
    "# The functions 'head()' and 'tail()' are used to display the subset's first and last few entries, respectively.\n",
    "head(mysubset)\n",
    "tail(mysubset)"
   ]
  },
  {
   "cell_type": "markdown",
   "metadata": {},
   "source": [
    "You want to explore whether there is evidence of a salary gap between people of different genders.  Given the distributions of salaries in the sample you decide to estimate the following model:\n",
    "\n",
    "$$ log(salary_i) = \\beta_0 + \\beta_1 Age_i + \\beta_2 Duration_i + \\beta_3 Female_i + \\beta_4 Nonbinary_i + u_i ,$$\n",
    "\n",
    "where $Female_i$ is an indicator variable equal to 1 if the individual self reported as female and 0 otherwise, and $Nonbinary$ is an indicator variable equal to 1 if the individual self reported as nonbinary and 0 otherwise.\n",
    "\n",
    "b) Explain why an indicator variable for Male is not included in the model [3 marks]\n"
   ]
  },
  {
   "cell_type": "markdown",
   "metadata": {},
   "source": [
    "To avoid the dummy variable trap males variable indicator is not included.\n",
    "\n",
    "As the data set only contains 3 gender variables and males makes it 1, female and non-binary should be 0. Which aslo tells us that it makes a perfect multi-collinearity.\n",
    "\n",
    "As a result, the regression model is unable to estimate unique coefficients for each dummy variable and makes it difficult to interpret the individual effects of each category and can lead to unreliable coefficient estimates.To avoid this issue, typically one of the dummy variables is excluded. We excluded Male in the preceding example.\n",
    "\n",
    "\n",
    "so from this we can state that,\n",
    "\n",
    " $$Female_i +  Nonbinary_i + Male_i = 1$$ \n",
    " \n",
    " "
   ]
  },
  {
   "cell_type": "markdown",
   "metadata": {},
   "source": [
    "\n",
    "c) Using the data set *mysubset*, estimate the model. [3 marks]\n"
   ]
  },
  {
   "cell_type": "code",
   "execution_count": 97,
   "metadata": {
    "vscode": {
     "languageId": "r"
    }
   },
   "outputs": [
    {
     "data": {
      "text/html": [
       "<table class=\"dataframe\">\n",
       "<caption>A data.frame: 6 × 10</caption>\n",
       "<thead>\n",
       "\t<tr><th></th><th scope=col>X</th><th scope=col>salary</th><th scope=col>id</th><th scope=col>gender</th><th scope=col>children</th><th scope=col>duration</th><th scope=col>year</th><th scope=col>age</th><th scope=col>Female</th><th scope=col>Nonbinary</th></tr>\n",
       "\t<tr><th></th><th scope=col>&lt;int&gt;</th><th scope=col>&lt;dbl&gt;</th><th scope=col>&lt;int&gt;</th><th scope=col>&lt;fct&gt;</th><th scope=col>&lt;int&gt;</th><th scope=col>&lt;int&gt;</th><th scope=col>&lt;int&gt;</th><th scope=col>&lt;int&gt;</th><th scope=col>&lt;dbl&gt;</th><th scope=col>&lt;dbl&gt;</th></tr>\n",
       "</thead>\n",
       "<tbody>\n",
       "\t<tr><th scope=row>1</th><td>1</td><td> 64579.25</td><td>1</td><td>Male      </td><td>4</td><td> 1</td><td>2001</td><td>34</td><td>0</td><td>0</td></tr>\n",
       "\t<tr><th scope=row>2</th><td>2</td><td>105744.16</td><td>2</td><td>Female    </td><td>1</td><td> 1</td><td>2001</td><td>59</td><td>1</td><td>0</td></tr>\n",
       "\t<tr><th scope=row>3</th><td>3</td><td>503045.35</td><td>3</td><td>Non-binary</td><td>5</td><td>19</td><td>2001</td><td>40</td><td>0</td><td>1</td></tr>\n",
       "\t<tr><th scope=row>4</th><td>4</td><td> 55883.94</td><td>4</td><td>Male      </td><td>4</td><td> 1</td><td>2001</td><td>64</td><td>0</td><td>0</td></tr>\n",
       "\t<tr><th scope=row>5</th><td>5</td><td> 25459.80</td><td>5</td><td>Non-binary</td><td>3</td><td> 1</td><td>2001</td><td>67</td><td>0</td><td>1</td></tr>\n",
       "\t<tr><th scope=row>6</th><td>6</td><td> 66364.26</td><td>6</td><td>Male      </td><td>3</td><td> 1</td><td>2001</td><td>21</td><td>0</td><td>0</td></tr>\n",
       "</tbody>\n",
       "</table>\n"
      ],
      "text/latex": [
       "A data.frame: 6 × 10\n",
       "\\begin{tabular}{r|llllllllll}\n",
       "  & X & salary & id & gender & children & duration & year & age & Female & Nonbinary\\\\\n",
       "  & <int> & <dbl> & <int> & <fct> & <int> & <int> & <int> & <int> & <dbl> & <dbl>\\\\\n",
       "\\hline\n",
       "\t1 & 1 &  64579.25 & 1 & Male       & 4 &  1 & 2001 & 34 & 0 & 0\\\\\n",
       "\t2 & 2 & 105744.16 & 2 & Female     & 1 &  1 & 2001 & 59 & 1 & 0\\\\\n",
       "\t3 & 3 & 503045.35 & 3 & Non-binary & 5 & 19 & 2001 & 40 & 0 & 1\\\\\n",
       "\t4 & 4 &  55883.94 & 4 & Male       & 4 &  1 & 2001 & 64 & 0 & 0\\\\\n",
       "\t5 & 5 &  25459.80 & 5 & Non-binary & 3 &  1 & 2001 & 67 & 0 & 1\\\\\n",
       "\t6 & 6 &  66364.26 & 6 & Male       & 3 &  1 & 2001 & 21 & 0 & 0\\\\\n",
       "\\end{tabular}\n"
      ],
      "text/markdown": [
       "\n",
       "A data.frame: 6 × 10\n",
       "\n",
       "| <!--/--> | X &lt;int&gt; | salary &lt;dbl&gt; | id &lt;int&gt; | gender &lt;fct&gt; | children &lt;int&gt; | duration &lt;int&gt; | year &lt;int&gt; | age &lt;int&gt; | Female &lt;dbl&gt; | Nonbinary &lt;dbl&gt; |\n",
       "|---|---|---|---|---|---|---|---|---|---|---|\n",
       "| 1 | 1 |  64579.25 | 1 | Male       | 4 |  1 | 2001 | 34 | 0 | 0 |\n",
       "| 2 | 2 | 105744.16 | 2 | Female     | 1 |  1 | 2001 | 59 | 1 | 0 |\n",
       "| 3 | 3 | 503045.35 | 3 | Non-binary | 5 | 19 | 2001 | 40 | 0 | 1 |\n",
       "| 4 | 4 |  55883.94 | 4 | Male       | 4 |  1 | 2001 | 64 | 0 | 0 |\n",
       "| 5 | 5 |  25459.80 | 5 | Non-binary | 3 |  1 | 2001 | 67 | 0 | 1 |\n",
       "| 6 | 6 |  66364.26 | 6 | Male       | 3 |  1 | 2001 | 21 | 0 | 0 |\n",
       "\n"
      ],
      "text/plain": [
       "  X salary    id gender     children duration year age Female Nonbinary\n",
       "1 1  64579.25 1  Male       4         1       2001 34  0      0        \n",
       "2 2 105744.16 2  Female     1         1       2001 59  1      0        \n",
       "3 3 503045.35 3  Non-binary 5        19       2001 40  0      1        \n",
       "4 4  55883.94 4  Male       4         1       2001 64  0      0        \n",
       "5 5  25459.80 5  Non-binary 3         1       2001 67  0      1        \n",
       "6 6  66364.26 6  Male       3         1       2001 21  0      0        "
      ]
     },
     "metadata": {},
     "output_type": "display_data"
    },
    {
     "data": {
      "text/plain": [
       "\n",
       "Call:\n",
       "lm(formula = log(salary) ~ age + duration + Female + Nonbinary, \n",
       "    data = mysubset)\n",
       "\n",
       "Residuals:\n",
       "    Min      1Q  Median      3Q     Max \n",
       "-4.8548 -0.7990  0.0115  0.8056  3.6177 \n",
       "\n",
       "Coefficients:\n",
       "             Estimate Std. Error t value Pr(>|t|)    \n",
       "(Intercept) 10.758651   0.101602 105.890  < 2e-16 ***\n",
       "age          0.008198   0.001681   4.876 1.17e-06 ***\n",
       "duration     0.020258   0.006643   3.049  0.00232 ** \n",
       "Female      -0.785467   0.060025 -13.086  < 2e-16 ***\n",
       "Nonbinary   -0.110585   0.069980  -1.580  0.11421    \n",
       "---\n",
       "Signif. codes:  0 ‘***’ 0.001 ‘**’ 0.01 ‘*’ 0.05 ‘.’ 0.1 ‘ ’ 1\n",
       "\n",
       "Residual standard error: 1.166 on 1995 degrees of freedom\n",
       "Multiple R-squared:  0.09643,\tAdjusted R-squared:  0.09461 \n",
       "F-statistic: 53.22 on 4 and 1995 DF,  p-value: < 2.2e-16\n"
      ]
     },
     "metadata": {},
     "output_type": "display_data"
    }
   ],
   "source": [
    "# 730047083\n",
    "# Using the 'ifelse()' statement, dummy variables are added to the dataset. If the corresponding gender condition is met, these variables have a value of 1 and otherwise have a value of 0.\n",
    "mysubset$Female <- ifelse(mysubset$gender == \"Female\",1,0)\n",
    "mysubset$Nonbinary <- ifelse(mysubset$gender == \"Non-binary\",1,0)\n",
    "\n",
    "head(mysubset)\n",
    "\n",
    "# The'lm()' function is used to estimate a linear regression model, it predicts salary based on age, duration, and the newly added dummy variables. \n",
    "reg1<- lm(log(salary)~ age + duration + Female + Nonbinary , data= mysubset)\n",
    "\n",
    "# The'Summary' function is used to display the regression model's summary statistics.\n",
    "summary(reg1)"
   ]
  },
  {
   "cell_type": "markdown",
   "metadata": {},
   "source": [
    "The model suggests that age, duration and gender (female) have a statistically significant effect on salary but Non-binary is not statistically significant. "
   ]
  },
  {
   "cell_type": "markdown",
   "metadata": {},
   "source": [
    "d) How do you interpret the coefficient on duration and its significance? [4 marks]\n"
   ]
  },
  {
   "cell_type": "code",
   "execution_count": 98,
   "metadata": {
    "vscode": {
     "languageId": "r"
    }
   },
   "outputs": [
    {
     "data": {
      "text/html": [
       "<style>\n",
       ".dl-inline {width: auto; margin:0; padding: 0}\n",
       ".dl-inline>dt, .dl-inline>dd {float: none; width: auto; display: inline-block}\n",
       ".dl-inline>dt::after {content: \":\\0020\"; padding-right: .5ex}\n",
       ".dl-inline>dt:not(:first-of-type) {padding-left: .5ex}\n",
       "</style><dl class=dl-inline><dt>(Intercept)</dt><dd>0.0999062655703086</dd><dt>age</dt><dd>0.00165134650100406</dd><dt>duration</dt><dd>0.00671974072088943</dd><dt>Female</dt><dd>0.0609304905181078</dd><dt>Nonbinary</dt><dd>0.0680161608226401</dd></dl>\n"
      ],
      "text/latex": [
       "\\begin{description*}\n",
       "\\item[(Intercept)] 0.0999062655703086\n",
       "\\item[age] 0.00165134650100406\n",
       "\\item[duration] 0.00671974072088943\n",
       "\\item[Female] 0.0609304905181078\n",
       "\\item[Nonbinary] 0.0680161608226401\n",
       "\\end{description*}\n"
      ],
      "text/markdown": [
       "(Intercept)\n",
       ":   0.0999062655703086age\n",
       ":   0.00165134650100406duration\n",
       ":   0.00671974072088943Female\n",
       ":   0.0609304905181078Nonbinary\n",
       ":   0.0680161608226401\n",
       "\n"
      ],
      "text/plain": [
       "(Intercept)         age    duration      Female   Nonbinary \n",
       "0.099906266 0.001651347 0.006719741 0.060930491 0.068016161 "
      ]
     },
     "metadata": {},
     "output_type": "display_data"
    },
    {
     "data": {
      "text/plain": [
       "\n",
       "t test of coefficients:\n",
       "\n",
       "              Estimate Std. Error  t value  Pr(>|t|)    \n",
       "(Intercept) 10.7586509  0.0999063 107.6874 < 2.2e-16 ***\n",
       "age          0.0081983  0.0016513   4.9646 7.468e-07 ***\n",
       "duration     0.0202575  0.0067197   3.0146  0.002605 ** \n",
       "Female      -0.7854669  0.0609305 -12.8912 < 2.2e-16 ***\n",
       "Nonbinary   -0.1105852  0.0680162  -1.6259  0.104136    \n",
       "---\n",
       "Signif. codes:  0 ‘***’ 0.001 ‘**’ 0.01 ‘*’ 0.05 ‘.’ 0.1 ‘ ’ 1\n"
      ]
     },
     "metadata": {},
     "output_type": "display_data"
    }
   ],
   "source": [
    "# 730047083\n",
    "#The HC1 method is used to compute robust standard errors, which are then stored in the variable.This method accounts for heteroscedasticity, resulting in more reliable standard errors.\n",
    "robuststder <- sqrt(diag(vcovHC(reg1, type= \"HC1\")))\n",
    "robuststder\n",
    "# To determine the significance of coefficients in the regression model, a hypothesis test is performed.\n",
    "hypotest_robust <- coeftest(reg1, vcov.=vcovHC, type = \"HC1\")\n",
    "hypotest_robust"
   ]
  },
  {
   "cell_type": "markdown",
   "metadata": {},
   "source": [
    "We can see as on average, for each one-unit increase in the duration variable, the logarithm of salary is expected to increase by approximately 0.0202575 units, assuming all other variables remain constant. Also, as the p-value is less than the significance level we can say that 'duration' is statistically significant."
   ]
  },
  {
   "cell_type": "markdown",
   "metadata": {},
   "source": [
    "e) Do you find any evidence of a difference in the mean salaries for people of different genders? [4 marks]\n"
   ]
  },
  {
   "cell_type": "markdown",
   "metadata": {},
   "source": [
    "According to the model above, the coefficient on Female is statistically significant at the 5% significance level, while the coefficient on Non-binary is significant and has a non-zero value. This demonstrates that the average salary of Female differs from the average salary of Male. On the other hand, there is no significant difference in mean between Non-binary and Male."
   ]
  },
  {
   "cell_type": "markdown",
   "metadata": {},
   "source": [
    "\n",
    "f) The variable children was not included in the model. Explain how this might affect your results? Does your data provide any information about this? [6 marks]"
   ]
  },
  {
   "cell_type": "markdown",
   "metadata": {},
   "source": [
    "If the variable is ommited it might effect the results. As 'Children' is an important variable and an important predictor for salary ,if not taking it in, may result in omitted variable bias where in the relavent varibale is left out which affects the result. This can contribute to a more comprehensive understanding of the factors influencing salary.The variable \"children\" could provide the insights on how it effects on mentality and decision making of a family. This information can be valuable for understanding the dynamics between personal life and work. According to the data, females earn less than males, and the number of children may be one of the reasons for this.  \n",
    "     \n",
    "\n"
   ]
  },
  {
   "cell_type": "markdown",
   "metadata": {},
   "source": [
    "g) Re-estimate the model with the addition of children as a regressor.  Explain whether your interpretation of the results has changed [5 marks]"
   ]
  },
  {
   "cell_type": "code",
   "execution_count": 104,
   "metadata": {
    "vscode": {
     "languageId": "r"
    }
   },
   "outputs": [
    {
     "data": {
      "text/plain": [
       "\n",
       "Call:\n",
       "lm(formula = log(salary) ~ age + duration + children + Female + \n",
       "    Nonbinary, data = mysubset)\n",
       "\n",
       "Residuals:\n",
       "    Min      1Q  Median      3Q     Max \n",
       "-4.7391 -0.8048  0.0166  0.7911  3.8238 \n",
       "\n",
       "Coefficients:\n",
       "             Estimate Std. Error t value Pr(>|t|)    \n",
       "(Intercept) 11.158885   0.130524  85.493  < 2e-16 ***\n",
       "age          0.010114   0.001718   5.887 4.60e-09 ***\n",
       "duration     0.015384   0.006682   2.302   0.0214 *  \n",
       "children    -0.116328   0.024017  -4.843 1.37e-06 ***\n",
       "Female      -0.798201   0.059748 -13.359  < 2e-16 ***\n",
       "Nonbinary   -0.148903   0.070037  -2.126   0.0336 *  \n",
       "---\n",
       "Signif. codes:  0 ‘***’ 0.001 ‘**’ 0.01 ‘*’ 0.05 ‘.’ 0.1 ‘ ’ 1\n",
       "\n",
       "Residual standard error: 1.159 on 1994 degrees of freedom\n",
       "Multiple R-squared:  0.1069,\tAdjusted R-squared:  0.1047 \n",
       "F-statistic: 47.75 on 5 and 1994 DF,  p-value: < 2.2e-16\n"
      ]
     },
     "metadata": {},
     "output_type": "display_data"
    }
   ],
   "source": [
    "# 730047083\n",
    "# The ('reg2') where it is re-estimating with an included 'children' as an additional regressor with an aim to analyze the impact of number of children on logarithm of salary.\n",
    "reg2<- lm(log(salary)~ age + duration+ children + Female + Nonbinary , data= mysubset)\n",
    "\n",
    "# The'Summary' function is used to display the extended regression model's summary statistics\n",
    "summary(reg2)"
   ]
  },
  {
   "cell_type": "markdown",
   "metadata": {},
   "source": [
    "Looking at the result we can interpret that even after including an important variable, still we sell gender disparaties between female and non-binary. Also, we adress the omitted variable bias and can see that the relavent variable was left out."
   ]
  },
  {
   "cell_type": "markdown",
   "metadata": {},
   "source": [
    "### Part 3: Panel data analysis [21 marks]"
   ]
  },
  {
   "cell_type": "markdown",
   "metadata": {},
   "source": [
    "a) Explain the advantage of using the full panel of data from 2001 to 2020 for your analysis [2 marks]\n"
   ]
  },
  {
   "cell_type": "markdown",
   "metadata": {},
   "source": [
    "The larger the sample size larger the more it is closer to a normal distribution. Having a panel data from 2001 to 2020 will gives repetative observation which inturn gives us a more comprehensive analysis of the table. We also have different variables and fixed time frame which further help us understand the salary variation. This method minimizes the impact of selection bias and provides a nuanced perspective on the influence of gender on salaries while accounting for individual and time-specific factors. As a result, this approach furnishes a comprehensive and detailed insight into the patterns and discrepancies in gender-related salary trends throughout the two decades."
   ]
  },
  {
   "cell_type": "markdown",
   "metadata": {},
   "source": [
    "\n",
    "b) Why would you want to include entity and time fixed effects? [3 marks]\n"
   ]
  },
  {
   "cell_type": "markdown",
   "metadata": {},
   "source": [
    "The inclusion of entities aids in the observation of unobserved individual characteristics that may be constant over time but may influence the dependent variable. Fixed effects enable the capture of individual-specific trends that persist over time as well as time-specific trends that affect all individuals. This is especially important in longitudinal data, where individuals are observed over time.   "
   ]
  },
  {
   "cell_type": "markdown",
   "metadata": {},
   "source": [
    "c) Write down a panel linear model with entity and time fixed effects.  The model should express the log of salary as a function of age, duration, children and an interaction between gender and children.  [4 marks]\n"
   ]
  },
  {
   "cell_type": "markdown",
   "metadata": {},
   "source": [
    "$$ log(salary_it) =  \\beta_1 Age_it + \\beta_2 Duration_it + \\beta_3 Children_it + \\beta_4 Gender_it*Children_it + \\alpha_it + \\lambda_it + u_it, $$\n",
    "\n",
    "Following are the regressors and terms used in the panel linear regression model,\n",
    "\n",
    "$log(salary_it)$ epresents the natural logarithm of the salary of individual i at time t.\n",
    "\n",
    "$Age_it$ denotes the age of individual i at time t.\n",
    "\n",
    "$Duration_it$ corresponds to the duration variable from the salary data of individual i at time t.\n",
    "\n",
    "$Children_it$ indicates the number of children of individual i at time t.\n",
    "\n",
    "$Gender_it$  is a factor variable with three levels: Male, Female, Nonbinary.\n",
    "\n",
    "$Gender_it*Children_it$ represents the interaction between the gender and children variables.\n",
    "\n",
    "$\\alpha_it$ denotes the entity fixed effects, capturing individual-specific characteristics that remain constant over time.\n",
    "\n",
    "$\\lambda_it$ signifies the time fixed effects, capturing time-specific features that affect all individuals similarly.\n",
    "\n",
    "$u_it$ is the error term, representing unobserved factors and random variations."
   ]
  },
  {
   "cell_type": "markdown",
   "metadata": {},
   "source": [
    "d) Explain how the interaction between gender and children influences the expected change in salary for individuals with one additional child. [3 marks]"
   ]
  },
  {
   "cell_type": "markdown",
   "metadata": {},
   "source": [
    "Children:genderFemale:\n",
    "\n",
    "Estimated Coefficient: -0.1013739\n",
    "This negative coefficient implies that each additional child for females is associated with a decrease in salary. The absolute value of the coefficient indicates the magnitude of the decrease.\n",
    "\n",
    "Children:genderNon-binary:\n",
    "\n",
    "Estimated coefficient: 0.1053458\n",
    "This positive coefficient indicates that each additional child is associated with an increase in salary for non-binary individuals. The absolute value of the coefficient determines the magnitude of the increase.\n",
    "\n"
   ]
  },
  {
   "cell_type": "markdown",
   "metadata": {},
   "source": [
    "e) Estimate the model using the full salarydata dataset and interpret the coefficients on regressors related to gender and children. [2 marks]"
   ]
  },
  {
   "cell_type": "code",
   "execution_count": 150,
   "metadata": {
    "vscode": {
     "languageId": "r"
    }
   },
   "outputs": [
    {
     "name": "stderr",
     "output_type": "stream",
     "text": [
      "Warning message in pdata.frame(data, index):\n",
      "“duplicate couples (id-time) in resulting pdata.frame\n",
      " to find out which, use, e.g., table(index(your_pdataframe), useNA = \"ifany\")”\n"
     ]
    },
    {
     "data": {
      "text/plain": [
       "Twoways effects Within Model\n",
       "\n",
       "Call:\n",
       "plm(formula = log(salary) ~ age + duration + children + gender * \n",
       "    children, data = salarydata, effect = \"twoways\", model = \"within\", \n",
       "    index = c(\"gender\", \"year\"))\n",
       "\n",
       "Balanced Panel: n = 3, T = 20, N = 2000\n",
       "\n",
       "Residuals:\n",
       "     Min.   1st Qu.    Median   3rd Qu.      Max. \n",
       "-4.511639 -0.790522  0.012036  0.759121  3.605587 \n",
       "\n",
       "Coefficients:\n",
       "                            Estimate Std. Error t-value  Pr(>|t|)    \n",
       "age                        0.0107267  0.0018016  5.9541 3.087e-09 ***\n",
       "duration                   0.0091044  0.0070211  1.2967   0.19488    \n",
       "children                  -0.0786555  0.0456890 -1.7215   0.08531 .  \n",
       "children:genderFemale     -0.1013739  0.0572140 -1.7718   0.07658 .  \n",
       "children:genderNon-binary  0.1053458  0.0593069  1.7763   0.07584 .  \n",
       "---\n",
       "Signif. codes:  0 ‘***’ 0.001 ‘**’ 0.01 ‘*’ 0.05 ‘.’ 0.1 ‘ ’ 1\n",
       "\n",
       "Total Sum of Squares:    2692.1\n",
       "Residual Sum of Squares: 2610.2\n",
       "R-Squared:      0.030453\n",
       "Adj. R-Squared: 0.017676\n",
       "F-statistic: 12.3941 on 5 and 1973 DF, p-value: 7.3264e-12"
      ]
     },
     "metadata": {},
     "output_type": "display_data"
    }
   ],
   "source": [
    "# This part fits a panel linear model using the plm function. The data is structured as a panel with indices for gender and year, and the model is specified as \"within\" to include entity and time fixed effects.\n",
    "reg3 <- plm(log(salary) ~ age + duration + children + gender * children,\n",
    "            index = c(\"gender\", \"year\"),\n",
    "            data = salarydata,\n",
    "            model = \"within\",\n",
    "            effect = \"twoways\")\n",
    "\n",
    "# The HC1 method is used to calculate robust standard errors in this case. Robust standard errors provide more reliable estimates, especially when heteroscedasticity is present.\n",
    "robust1 <- sqrt(diag(vcovHC(reg3, type = \"HC1\")))\n",
    "\n",
    "summary(reg3,se = robust1)\n"
   ]
  },
  {
   "cell_type": "markdown",
   "metadata": {},
   "source": [
    "f) Explain how you would test the null hypothesis that there is no gender based salary gap.  Clearly explain your null and alternative hypothesis, the test statistic, significance level and rejection rule. [5 marks]"
   ]
  },
  {
   "cell_type": "markdown",
   "metadata": {},
   "source": [
    "## Null Hypothesis $ (H_0) $:\n",
    "\n",
    "The null hypothesis states that there is no gender wage disparity.\n",
    "\n",
    "## Alternative Hypothesis $(H_1)$\n",
    "\n",
    "The alternative hypothesis contradicts the null hypothesis, suggesting that there is a gender-based salary gap.\n",
    "\n",
    "## Test Statistic:\n",
    "\n",
    "The significance level is the fixed threshold for rejecting the null hypothesis. Common values include 0.05, which indicates a 5% level of significance.\n",
    "\n",
    "## Rejection Rule:\n",
    "\n",
    "The null hypothesis is rejected if the p-value associated with the test statistic is less than or equal to the chosen significance level. Otherwise, the null hypothesis is not rejected if the p-value is greater than.\n"
   ]
  },
  {
   "cell_type": "markdown",
   "metadata": {},
   "source": [
    "g) Conduct the hypothesis test and discuss your conclusions.  [2 marks]"
   ]
  },
  {
   "cell_type": "code",
   "execution_count": 151,
   "metadata": {
    "vscode": {
     "languageId": "r"
    }
   },
   "outputs": [
    {
     "data": {
      "text/html": [
       "<style>\n",
       ".dl-inline {width: auto; margin:0; padding: 0}\n",
       ".dl-inline>dt, .dl-inline>dd {float: none; width: auto; display: inline-block}\n",
       ".dl-inline>dt::after {content: \":\\0020\"; padding-right: .5ex}\n",
       ".dl-inline>dt:not(:first-of-type) {padding-left: .5ex}\n",
       "</style><dl class=dl-inline><dt>age</dt><dd>0.00356025311694705</dd><dt>duration</dt><dd>0.00834638450649853</dd><dt>children</dt><dd>0.00499929631130459</dd><dt>children:genderFemale</dt><dd>0.00512219384791279</dd><dt>children:genderNon-binary</dt><dd>0.00700190907748507</dd></dl>\n"
      ],
      "text/latex": [
       "\\begin{description*}\n",
       "\\item[age] 0.00356025311694705\n",
       "\\item[duration] 0.00834638450649853\n",
       "\\item[children] 0.00499929631130459\n",
       "\\item[children:genderFemale] 0.00512219384791279\n",
       "\\item[children:genderNon-binary] 0.00700190907748507\n",
       "\\end{description*}\n"
      ],
      "text/markdown": [
       "age\n",
       ":   0.00356025311694705duration\n",
       ":   0.00834638450649853children\n",
       ":   0.00499929631130459children:genderFemale\n",
       ":   0.00512219384791279children:genderNon-binary\n",
       ":   0.00700190907748507\n",
       "\n"
      ],
      "text/plain": [
       "                      age                  duration                  children \n",
       "              0.003560253               0.008346385               0.004999296 \n",
       "    children:genderFemale children:genderNon-binary \n",
       "              0.005122194               0.007001909 "
      ]
     },
     "metadata": {},
     "output_type": "display_data"
    },
    {
     "data": {
      "text/plain": [
       "\n",
       "t test of coefficients:\n",
       "\n",
       "                            Estimate Std. Error  t value  Pr(>|t|)    \n",
       "age                        0.0107267  0.0035603   3.0129  0.002621 ** \n",
       "duration                   0.0091044  0.0083464   1.0908  0.275488    \n",
       "children                  -0.0786555  0.0049993 -15.7333 < 2.2e-16 ***\n",
       "children:genderFemale     -0.1013739  0.0051222 -19.7911 < 2.2e-16 ***\n",
       "children:genderNon-binary  0.1053458  0.0070019  15.0453 < 2.2e-16 ***\n",
       "---\n",
       "Signif. codes:  0 ‘***’ 0.001 ‘**’ 0.01 ‘*’ 0.05 ‘.’ 0.1 ‘ ’ 1\n"
      ]
     },
     "metadata": {},
     "output_type": "display_data"
    }
   ],
   "source": [
    "# Robust standard errors are computed using the HC1 method. \n",
    "robust2 <- sqrt(diag(vcovHC(reg3, type = \"HC1\")))\n",
    "robust2\n",
    "\n",
    "# The coeftest function is used to perform a hypothesis test for coefficients in the panel linear model. The test incorporates robust standard errors (HC1) for more accurate inference.\n",
    "coeftest(reg3, vcov. = vcovHC, type = \"HC1\")\n"
   ]
  },
  {
   "cell_type": "markdown",
   "metadata": {},
   "source": [
    "$ |p-value_f| < 0.05$\n",
    "\n",
    "$ |p-value_n| < 0.05$\n",
    "\n",
    "Based on this evidence, we reject the null hypothesis and affirm the presence of a gender-based wage disparity in the model.\n"
   ]
  }
 ],
 "metadata": {
  "kernelspec": {
   "display_name": "R",
   "language": "R",
   "name": "ir"
  },
  "language_info": {
   "codemirror_mode": "r",
   "file_extension": ".r",
   "mimetype": "text/x-r-source",
   "name": "R",
   "pygments_lexer": "r",
   "version": "4.2.2"
  }
 },
 "nbformat": 4,
 "nbformat_minor": 2
}
